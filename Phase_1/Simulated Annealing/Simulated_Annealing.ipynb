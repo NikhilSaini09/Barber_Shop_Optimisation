{
  "cells": [
    {
      "cell_type": "code",
      "execution_count": 20,
      "metadata": {},
      "outputs": [],
      "source": [
        "import numpy as np\n",
        "import matplotlib.pyplot as plt\n",
        "import seaborn as sns\n",
        "import math\n",
        "import random"
      ]
    },
    {
      "cell_type": "code",
      "execution_count": 21,
      "metadata": {
        "id": "g_NRJrDEYe4q"
      },
      "outputs": [],
      "source": [
        "class Barber_shop:\n",
        "  def __init__(self, n_customers, n_barbers, operation_list, customer_type, schedule, due_time, discount):\n",
        "    self.n_customers = n_customers\n",
        "    self.n_barbers = n_barbers\n",
        "    self.operation_list = operation_list\n",
        "    self.customer_type = customer_type\n",
        "    self.schedule = schedule\n",
        "    self.due_time = due_time\n",
        "    self.operation_costs = [100, 50, 150, 200]\n",
        "    self.weight = []\n",
        "    self.time_required = []\n",
        "    self.avg_time_req = []\n",
        "    self.price = []\n",
        "    self.membership = 200\n",
        "    self.discount = discount\n",
        "\n",
        "  def get_weight(self):\n",
        "    for ctype in self.customer_type:\n",
        "      if ctype == 'Standard':\n",
        "        self.weight.append(1)\n",
        "      else:\n",
        "        self.weight.append(2)\n",
        "\n",
        "  def get_operation_price(self):\n",
        "    for operation in self.operation_list:\n",
        "      price_j = np.dot(operation, self.operation_costs)\n",
        "      self.price.append(price_j)\n",
        "\n",
        "  def get_operation_time(self):\n",
        "    for operation in self.operation_list:\n",
        "      operation_times = [round(random.normalvariate(10,2)), round(random.normalvariate(5,1)), \n",
        "                        round(random.normalvariate(15,3)), round(random.normalvariate(20,5))]\n",
        "      avg_op_times = [10,5,15,20]\n",
        "      time_j = np.dot(operation, operation_times)\n",
        "      self.time_required.append(time_j)\n",
        "      time_j = np.dot(operation, avg_op_times)\n",
        "      self.avg_time_req.append(time_j)\n",
        "\n",
        "  def initialize(self):\n",
        "    self.get_weight()\n",
        "    self.get_operation_price()\n",
        "    self.get_operation_time()\n",
        "\n",
        "  def get_discount(self, j, schedule, time_required):\n",
        "    start_time, avg_start_time = self.get_start_time(j, schedule, time_required)\n",
        "    return self.discount if start_time > avg_start_time else 0\n",
        "\n",
        "  def get_barber(self, j, schedule):\n",
        "    for i in range(self.n_barbers):\n",
        "      for k in schedule[i]:\n",
        "        if k==j:\n",
        "          return i\n",
        "\n",
        "  def get_start_time(self, j, schedule, time_required):\n",
        "    i = self.get_barber(j, schedule)\n",
        "    s_i = schedule[i]\n",
        "    start_j=0\n",
        "    avg_start=0\n",
        "    for k in s_i:\n",
        "      if k==j:\n",
        "        break\n",
        "      start_j+=time_required[k]\n",
        "      avg_start+=self.avg_time_req[k]\n",
        "\n",
        "    return start_j\n",
        "\n",
        "  def objective(self, schedule, time_required):\n",
        "    net_profit = 0\n",
        "    for j in range(self.n_customers):\n",
        "      wj = self.weight[j]\n",
        "      pj = self.get_discount(j, schedule, time_required)\n",
        "      cj = self.price[j]\n",
        "\n",
        "      net_profit += (1-wj*pj)*cj + (wj-1)*self.membership\n",
        "\n",
        "    return net_profit"
      ]
    },
    {
      "cell_type": "code",
      "execution_count": 22,
      "metadata": {},
      "outputs": [],
      "source": [
        "class Simulated_Annealing:\n",
        "  def __init__(self, temp, alpha, stopping_temp, \n",
        "              stopping_iter, red_rule, beta, n_customers, n_barbers, operation_list, \n",
        "              customer_type, schedule, due_time, max_obj_var, discount):\n",
        "    self.barber_model = Barber_shop(n_customers, n_barbers, operation_list, customer_type, schedule, due_time, discount)\n",
        "    self.barber_model.initialize()\n",
        "    self.time_required = self.barber_model.time_required\n",
        "    self.n_customers = n_customers\n",
        "    self.n_barbers = n_barbers\n",
        "    self.operation_list = operation_list\n",
        "    self.customer_type = customer_type\n",
        "    self.due_time = due_time\n",
        "    self.curr_schedule = schedule\n",
        "    self.curr_obj = self.barber_model.objective(schedule, self.time_required)\n",
        "    self.temp = temp\n",
        "    self.alpha = alpha\n",
        "    self.stopping_temp = stopping_temp\n",
        "    self.stopping_iter = stopping_iter\n",
        "    self.red_rule = red_rule\n",
        "    self.beta = beta\n",
        "    self.num_iterations = 0\n",
        "    self.obj_list = [self.curr_obj]\n",
        "    self.var_list = []\n",
        "    self.max_obj_var = max_obj_var\n",
        "\n",
        "  def temp_reduction_rule(self):\n",
        "    if self.red_rule == 'linear':\n",
        "      self.temp -= self.alpha\n",
        "\n",
        "    elif self.red_rule == 'geometric':\n",
        "      self.temp *= self.alpha\n",
        "\n",
        "    else:\n",
        "      self.temp = self.temp/(1+self.beta*self.temp)\n",
        "\n",
        "  def get_obj_variance(self, schedule):\n",
        "    obj_list = []\n",
        "    for i in range(50):\n",
        "      op_times_random = []\n",
        "      for operation in self.operation_list:\n",
        "        operation_times = [round(random.normalvariate(10,2)), round(random.normalvariate(5,1)), \n",
        "                          round(random.normalvariate(15,3)), round(random.normalvariate(20,5))]\n",
        "        time_j = np.dot(operation, operation_times)\n",
        "        op_times_random.append(time_j)\n",
        "\n",
        "      obj_list.append(self.barber_model.objective(schedule, op_times_random))\n",
        "    \n",
        "    return np.var(obj_list)\n",
        "\n",
        "  def get_neighbour(self):\n",
        "    while True:\n",
        "      neighbour = self.curr_schedule\n",
        "      barber1 = 0\n",
        "      barber2 = 0\n",
        "      while(barber1 == barber2):\n",
        "        barber1 = random.randint(0,self.n_barbers - 1)\n",
        "        barber2 = random.randint(0,self.n_barbers - 1)\n",
        "\n",
        "      barber1_sch = neighbour[barber1]\n",
        "      barber2_sch = neighbour[barber2]\n",
        "\n",
        "      idx1 = len(barber1_sch)\n",
        "      idx2 = len(barber2_sch)\n",
        "\n",
        "      while(idx1 == len(barber1_sch) and idx2 == len(barber2_sch)):\n",
        "        idx1 = random.randint(0,len(barber1_sch))\n",
        "        idx2 = random.randint(0,len(barber2_sch))\n",
        "\n",
        "      if idx1!=len(barber1_sch) and idx2!=len(barber2_sch):\n",
        "        j1 = barber1_sch[idx1]\n",
        "        j2 = barber2_sch[idx2]\n",
        "\n",
        "        neighbour[barber1][idx1] = j2\n",
        "        neighbour[barber2][idx2] = j1\n",
        "\n",
        "      elif idx1==len(barber1_sch) and idx2!=len(barber2_sch):\n",
        "        j2 = barber2_sch[idx2]\n",
        "\n",
        "        neighbour[barber1].append(j2)\n",
        "        neighbour[barber2].remove(j2)\n",
        "\n",
        "      elif idx1 != len(barber1_sch):\n",
        "        j1 = barber1_sch[idx1]\n",
        "\n",
        "        neighbour[barber2].append(j1)\n",
        "        neighbour[barber1].remove(j1)\n",
        "\n",
        "      neighbour_var = self.get_obj_variance(neighbour)\n",
        "      if neighbour_var <= self.max_obj_var:\n",
        "        self.var_list.append(neighbour_var)\n",
        "        return neighbour\n",
        "  \n",
        "  def p_accept(self, neighbour):\n",
        "    s = self.curr_obj\n",
        "    s_dash = self.barber_model.objective(neighbour, self.time_required)\n",
        "    p = math.exp((s_dash-s)/self.temp)\n",
        "    return min(1, p)\n",
        "\n",
        "  def accept(self,neighbour):\n",
        "    s_dash = self.barber_model.objective(neighbour, self.time_required)\n",
        "    s = self.curr_obj\n",
        "\n",
        "    if s_dash > s:\n",
        "      self.curr_schedule = neighbour\n",
        "      self.curr_obj = s_dash\n",
        "\n",
        "    else:\n",
        "      p_acc = self.p_accept(neighbour)\n",
        "      epsilon = 0.8\n",
        "      if epsilon < p_acc:\n",
        "        self.curr_schedule = neighbour\n",
        "        self.curr_obj = s_dash\n",
        "\n",
        "  def anneal(self):\n",
        "    while self.temp>=self.stopping_temp:\n",
        "      self.num_iterations = 0\n",
        "      while self.num_iterations < self.stopping_iter:\n",
        "        neighbour = self.get_neighbour()\n",
        "        self.accept(neighbour)\n",
        "        self.obj_list.append(self.curr_obj)\n",
        "        self.num_iterations+=1\n",
        "      self.temp_reduction_rule()\n",
        "\n",
        "    return self.curr_schedule, self.obj_list, self.var_list"
      ]
    },
    {
      "cell_type": "code",
      "execution_count": 9,
      "metadata": {
        "id": "g3JMYGFNEzmt"
      },
      "outputs": [],
      "source": [
        "def generate_operations(n_customers, n_operations):\n",
        "  operation_list = []\n",
        "  for _ in range(n_customers):\n",
        "    op = [random.randint(0,1) for j in range(n_operations)]\n",
        "    operation_list.append(op)\n",
        "\n",
        "  return operation_list"
      ]
    },
    {
      "cell_type": "code",
      "execution_count": 19,
      "metadata": {
        "id": "l-tjJqhO17T6"
      },
      "outputs": [],
      "source": [
        "def generate_customer_type(n_customers):\n",
        "  std = int(0.7*n_customers)\n",
        "  type_list = ['Standard' for i in range(std)]\n",
        "  prem_cust = ['Premium' for i in range(n_customers - std)]\n",
        "  type_list.append(prem_cust)\n",
        "  random.shuffle(type_list)\n",
        "  return type_list"
      ]
    },
    {
      "cell_type": "code",
      "execution_count": 11,
      "metadata": {
        "id": "F21_BW-i2NW1"
      },
      "outputs": [],
      "source": [
        "def generate_due_time(n_customers,n_barbers):\n",
        "  return [\n",
        "      random.randint(50, 10 * int(n_customers / n_barbers))\n",
        "      for i in range(n_customers)\n",
        "  ]                           "
      ]
    },
    {
      "cell_type": "code",
      "execution_count": 12,
      "metadata": {
        "id": "D63-i52aJw8h"
      },
      "outputs": [],
      "source": [
        "def generate_random_schedule(n_customers, n_barbers):\n",
        "  customer_list = list(range(n_customers))\n",
        "  schedule = []\n",
        "  for j in range(n_barbers):\n",
        "    if j == n_barbers - 1:\n",
        "      schedule.append(customer_list[int(j*(n_customers/n_barbers)):n_customers])\n",
        "    schedule.append(customer_list[int(j*(n_customers/n_barbers)):int((j+1)*(n_customers/n_barbers))])\n",
        "\n",
        "  return schedule"
      ]
    },
    {
      "cell_type": "code",
      "execution_count": 15,
      "metadata": {
        "id": "ETtjgrUvVoc6"
      },
      "outputs": [],
      "source": [
        "temp = 500\n",
        "alpha = 5\n",
        "n_operations = 4\n",
        "red_rule = 'linear'\n",
        "beta = 100\n",
        "n_customers = 80\n",
        "stopping_iter = 10\n",
        "n_barbers = 3\n",
        "stopping_temp = 20\n",
        "max_obj_var = 500\n",
        "operation_list = generate_operations(n_customers, n_operations) #each element will be a one-hot encoded vector\n",
        "customer_type = generate_customer_type(n_customers)\n",
        "due_time = generate_due_time(n_customers,n_barbers)\n",
        "schedule = generate_random_schedule(n_customers, n_barbers)\n",
        "discount = 0.2"
      ]
    },
    {
      "cell_type": "code",
      "execution_count": 16,
      "metadata": {
        "colab": {
          "background_save": true,
          "base_uri": "https://localhost:8080/"
        },
        "id": "BvXJpDbRCzUv",
        "outputId": "65b66ece-8a82-4ecb-d26c-27e05bb2b74b"
      },
      "outputs": [],
      "source": [
        "simulated_anneal = Simulated_Annealing(temp, alpha, stopping_temp, \n",
        "               stopping_iter, red_rule, beta, n_customers, n_barbers, operation_list, \n",
        "               customer_type, schedule, due_time, max_obj_var, discount)\n",
        "\n",
        "opt_schedule, obj_list, var_list = simulated_anneal.anneal()"
      ]
    },
    {
      "cell_type": "code",
      "execution_count": 17,
      "metadata": {
        "colab": {
          "base_uri": "https://localhost:8080/",
          "height": 450
        },
        "id": "U6y3ipbrDpU9",
        "outputId": "dbd510d3-b160-4f6a-ddfe-bb4a6b3b99b3"
      },
      "outputs": [
        {
          "data": {
            "text/plain": [
              "[<matplotlib.lines.Line2D at 0x2a130f66a00>]"
            ]
          },
          "execution_count": 17,
          "metadata": {},
          "output_type": "execute_result"
        },
        {
          "data": {
            "image/png": "[encoded data removed]",
            "text/plain": [
              "<Figure size 640x480 with 1 Axes>"
            ]
          },
          "metadata": {},
          "output_type": "display_data"
        }
      ],
      "source": [
        "plt.plot(obj_list)"
      ]
    },
    {
      "cell_type": "code",
      "execution_count": null,
      "metadata": {},
      "outputs": [],
      "source": [
        "def sigmoid(x):\n",
        "    return 1/(1+math.exp(-(x)))"
      ]
    }
  ],
  "metadata": {
    "colab": {
      "provenance": []
    },
    "kernelspec": {
      "display_name": "Python 3",
      "language": "python",
      "name": "python3"
    },
    "language_info": {
      "codemirror_mode": {
        "name": "ipython",
        "version": 3
      },
      "file_extension": ".py",
      "mimetype": "text/x-python",
      "name": "python",
      "nbconvert_exporter": "python",
      "pygments_lexer": "ipython3",
      "version": "3.9.11"
    },
    "vscode": {
      "interpreter": {
        "hash": "3605e5b108818077618fafa9d1e8df4aa9a1de9aa532669254dd940f35de1af8"
      }
    }
  },
  "nbformat": 4,
  "nbformat_minor": 0
}
